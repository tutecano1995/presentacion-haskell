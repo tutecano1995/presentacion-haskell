{
 "cells": [
  {
   "cell_type": "markdown",
   "metadata": {
    "slideshow": {
     "slide_type": "slide"
    }
   },
   "source": [
    "![](Imagenes/haskell-logo.jpg)"
   ]
  },
  {
   "cell_type": "markdown",
   "metadata": {
    "slideshow": {
     "slide_type": "slide"
    }
   },
   "source": [
    "# ¿Qué es Haskell?\n",
    "\n",
    "- Lenguaje de programación\n",
    "    - Estandarizado\n",
    "    - Multipropósito\n",
    "    - Puramente funcional\n",
    "    - Semánticas no estructuradas\n",
    "    - Fuerte tipificación estática\n"
   ]
  },
  {
   "cell_type": "markdown",
   "metadata": {
    "slideshow": {
     "slide_type": "slide"
    }
   },
   "source": [
    "# Historia\n",
    "- 70’s: Nacimiento de los lenguajes funcionales \n",
    "    - ML, Hope y SASL\n",
    "- 1981: KRC  (basado en SASL).\n",
    "- 1987: Una docena de lenguajes funcionales\n",
    "    - Miranda el más destacado\n",
    "    - Encuentro en FPCA ’87 y formación de un comité para estandarizar\n",
    "- 1990: Surge Haskell (1.0, 1.1, 1.2, 1.3, 1.4).\n",
    "- 1998: Haskell 98\n",
    "- 2010: Haskell 2010\n",
    "- 2020: Haskell 2020 (proyecto)."
   ]
  },
  {
   "cell_type": "markdown",
   "metadata": {
    "slideshow": {
     "slide_type": "slide"
    }
   },
   "source": [
    "# ¿De donde viene el nombre?\n",
    "\n",
    "![](Imagenes/haskell-curry.jpg)\n"
   ]
  },
  {
   "cell_type": "markdown",
   "metadata": {
    "slideshow": {
     "slide_type": "subslide"
    }
   },
   "source": [
    "- Haskell Brooks Curry (1900-1982)\n",
    "- Matemático y lógico\n",
    "- Conocido por su trabajo en lógica combinatoria\n",
    "- Concepto de “Currying”"
   ]
  },
  {
   "cell_type": "markdown",
   "metadata": {
    "slideshow": {
     "slide_type": "slide"
    }
   },
   "source": [
    "# Compiladores e Intérpretes\n",
    "\n",
    "- Hugs\n",
    "- GHC\n",
    "- UHC\n",
    "- LHC\n",
    "- Otros:\n",
    "    - Stack\n",
    "    - Kernel para Jupyter"
   ]
  },
  {
   "cell_type": "markdown",
   "metadata": {
    "slideshow": {
     "slide_type": "slide"
    }
   },
   "source": [
    "# Algúnas estadísticas...\n",
    "\n",
    "![](Imagenes/statistics-0.png)\n"
   ]
  },
  {
   "cell_type": "markdown",
   "metadata": {
    "slideshow": {
     "slide_type": "subslide"
    }
   },
   "source": [
    "# Actualizaciones diarias\n",
    "\n",
    "![](Imagenes/statistics-1.png)"
   ]
  },
  {
   "cell_type": "markdown",
   "metadata": {
    "slideshow": {
     "slide_type": "subslide"
    }
   },
   "source": [
    "# Librerías\n",
    "\n",
    "![](Imagenes/statistics-3.png)"
   ]
  },
  {
   "cell_type": "markdown",
   "metadata": {
    "slideshow": {
     "slide_type": "slide"
    }
   },
   "source": [
    "# Características\n",
    "\n",
    "- Funcional Puro (Paradigma)\n",
    "- Tipado estático y Fuertemente tipado (Sistema de tipos)\n",
    "- Funciones son “ciudadanos de primera clase”\n",
    "- Lazy evaluation\n",
    "- Otras características:\n",
    "    - Pattern matching\n",
    "    - List comprehension\n",
    "    - Type classes\n",
    "    - Type polymorphism\n",
    "    - Monads"
   ]
  },
  {
   "cell_type": "markdown",
   "metadata": {
    "slideshow": {
     "slide_type": "slide"
    }
   },
   "source": [
    "# Tipos de Datos\n",
    "\n",
    "- Tipado Estático\n",
    "- Inferencia de Tipos\n",
    "- Comando “:t”\n",
    "- Básicos:\n",
    "    - Int\n",
    "    - Integer -> Unbounded, Menos eficiente\n",
    "    - Float\n",
    "    - Double\n",
    "    - Bool\n",
    "    - Char"
   ]
  },
  {
   "cell_type": "code",
   "execution_count": 25,
   "metadata": {
    "slideshow": {
     "slide_type": "subslide"
    }
   },
   "outputs": [
    {
     "data": {
      "text/html": [
       "<style>/* Styles used for the Hoogle display in the pager */\n",
       ".hoogle-doc {\n",
       "display: block;\n",
       "padding-bottom: 1.3em;\n",
       "padding-left: 0.4em;\n",
       "}\n",
       ".hoogle-code {\n",
       "display: block;\n",
       "font-family: monospace;\n",
       "white-space: pre;\n",
       "}\n",
       ".hoogle-text {\n",
       "display: block;\n",
       "}\n",
       ".hoogle-name {\n",
       "color: green;\n",
       "font-weight: bold;\n",
       "}\n",
       ".hoogle-head {\n",
       "font-weight: bold;\n",
       "}\n",
       ".hoogle-sub {\n",
       "display: block;\n",
       "margin-left: 0.4em;\n",
       "}\n",
       ".hoogle-package {\n",
       "font-weight: bold;\n",
       "font-style: italic;\n",
       "}\n",
       ".hoogle-module {\n",
       "font-weight: bold;\n",
       "}\n",
       ".hoogle-class {\n",
       "font-weight: bold;\n",
       "}\n",
       ".get-type {\n",
       "color: green;\n",
       "font-weight: bold;\n",
       "font-family: monospace;\n",
       "display: block;\n",
       "white-space: pre-wrap;\n",
       "}\n",
       ".show-type {\n",
       "color: green;\n",
       "font-weight: bold;\n",
       "font-family: monospace;\n",
       "margin-left: 1em;\n",
       "}\n",
       ".mono {\n",
       "font-family: monospace;\n",
       "display: block;\n",
       "}\n",
       ".err-msg {\n",
       "color: red;\n",
       "font-style: italic;\n",
       "font-family: monospace;\n",
       "white-space: pre;\n",
       "display: block;\n",
       "}\n",
       "#unshowable {\n",
       "color: red;\n",
       "font-weight: bold;\n",
       "}\n",
       ".err-msg.in.collapse {\n",
       "padding-top: 0.7em;\n",
       "}\n",
       ".highlight-code {\n",
       "white-space: pre;\n",
       "font-family: monospace;\n",
       "}\n",
       ".suggestion-warning { \n",
       "font-weight: bold;\n",
       "color: rgb(200, 130, 0);\n",
       "}\n",
       ".suggestion-error { \n",
       "font-weight: bold;\n",
       "color: red;\n",
       "}\n",
       ".suggestion-name {\n",
       "font-weight: bold;\n",
       "}\n",
       "</style><span class='err-msg'>Multiple declarations of ‘a’<br/>Declared at: &lt;interactive&gt;:1:1<br/>             &lt;interactive&gt;:2:1</span>"
      ],
      "text/plain": [
       "Multiple declarations of ‘a’\n",
       "Declared at: <interactive>:1:1\n",
       "             <interactive>:2:1"
      ]
     },
     "metadata": {},
     "output_type": "display_data"
    }
   ],
   "source": [
    "a = 1\n",
    "a = 2"
   ]
  },
  {
   "cell_type": "code",
   "execution_count": 27,
   "metadata": {
    "slideshow": {
     "slide_type": "subslide"
    }
   },
   "outputs": [
    {
     "data": {
      "text/html": [
       "<style>/* Styles used for the Hoogle display in the pager */\n",
       ".hoogle-doc {\n",
       "display: block;\n",
       "padding-bottom: 1.3em;\n",
       "padding-left: 0.4em;\n",
       "}\n",
       ".hoogle-code {\n",
       "display: block;\n",
       "font-family: monospace;\n",
       "white-space: pre;\n",
       "}\n",
       ".hoogle-text {\n",
       "display: block;\n",
       "}\n",
       ".hoogle-name {\n",
       "color: green;\n",
       "font-weight: bold;\n",
       "}\n",
       ".hoogle-head {\n",
       "font-weight: bold;\n",
       "}\n",
       ".hoogle-sub {\n",
       "display: block;\n",
       "margin-left: 0.4em;\n",
       "}\n",
       ".hoogle-package {\n",
       "font-weight: bold;\n",
       "font-style: italic;\n",
       "}\n",
       ".hoogle-module {\n",
       "font-weight: bold;\n",
       "}\n",
       ".hoogle-class {\n",
       "font-weight: bold;\n",
       "}\n",
       ".get-type {\n",
       "color: green;\n",
       "font-weight: bold;\n",
       "font-family: monospace;\n",
       "display: block;\n",
       "white-space: pre-wrap;\n",
       "}\n",
       ".show-type {\n",
       "color: green;\n",
       "font-weight: bold;\n",
       "font-family: monospace;\n",
       "margin-left: 1em;\n",
       "}\n",
       ".mono {\n",
       "font-family: monospace;\n",
       "display: block;\n",
       "}\n",
       ".err-msg {\n",
       "color: red;\n",
       "font-style: italic;\n",
       "font-family: monospace;\n",
       "white-space: pre;\n",
       "display: block;\n",
       "}\n",
       "#unshowable {\n",
       "color: red;\n",
       "font-weight: bold;\n",
       "}\n",
       ".err-msg.in.collapse {\n",
       "padding-top: 0.7em;\n",
       "}\n",
       ".highlight-code {\n",
       "white-space: pre;\n",
       "font-family: monospace;\n",
       "}\n",
       ".suggestion-warning { \n",
       "font-weight: bold;\n",
       "color: rgb(200, 130, 0);\n",
       "}\n",
       ".suggestion-error { \n",
       "font-weight: bold;\n",
       "color: red;\n",
       "}\n",
       ".suggestion-name {\n",
       "font-weight: bold;\n",
       "}\n",
       "</style><span class='get-type'>\"string\" :: [Char]</span>"
      ],
      "text/plain": [
       "\"string\" :: [Char]"
      ]
     },
     "metadata": {},
     "output_type": "display_data"
    }
   ],
   "source": [
    ":t \"string\""
   ]
  },
  {
   "cell_type": "markdown",
   "metadata": {
    "slideshow": {
     "slide_type": "slide"
    }
   },
   "source": [
    "# Listas\n",
    "\n",
    "- Estructura de datos homogéneos\n",
    "- Los String son listas de caracteres"
   ]
  },
  {
   "cell_type": "markdown",
   "metadata": {
    "slideshow": {
     "slide_type": "subslide"
    }
   },
   "source": [
    "# Les suena ..."
   ]
  },
  {
   "cell_type": "code",
   "execution_count": 28,
   "metadata": {
    "scrolled": true,
    "slideshow": {
     "slide_type": "-"
    }
   },
   "outputs": [
    {
     "data": {
      "text/html": [
       "<style>/* Styles used for the Hoogle display in the pager */\n",
       ".hoogle-doc {\n",
       "display: block;\n",
       "padding-bottom: 1.3em;\n",
       "padding-left: 0.4em;\n",
       "}\n",
       ".hoogle-code {\n",
       "display: block;\n",
       "font-family: monospace;\n",
       "white-space: pre;\n",
       "}\n",
       ".hoogle-text {\n",
       "display: block;\n",
       "}\n",
       ".hoogle-name {\n",
       "color: green;\n",
       "font-weight: bold;\n",
       "}\n",
       ".hoogle-head {\n",
       "font-weight: bold;\n",
       "}\n",
       ".hoogle-sub {\n",
       "display: block;\n",
       "margin-left: 0.4em;\n",
       "}\n",
       ".hoogle-package {\n",
       "font-weight: bold;\n",
       "font-style: italic;\n",
       "}\n",
       ".hoogle-module {\n",
       "font-weight: bold;\n",
       "}\n",
       ".hoogle-class {\n",
       "font-weight: bold;\n",
       "}\n",
       ".get-type {\n",
       "color: green;\n",
       "font-weight: bold;\n",
       "font-family: monospace;\n",
       "display: block;\n",
       "white-space: pre-wrap;\n",
       "}\n",
       ".show-type {\n",
       "color: green;\n",
       "font-weight: bold;\n",
       "font-family: monospace;\n",
       "margin-left: 1em;\n",
       "}\n",
       ".mono {\n",
       "font-family: monospace;\n",
       "display: block;\n",
       "}\n",
       ".err-msg {\n",
       "color: red;\n",
       "font-style: italic;\n",
       "font-family: monospace;\n",
       "white-space: pre;\n",
       "display: block;\n",
       "}\n",
       "#unshowable {\n",
       "color: red;\n",
       "font-weight: bold;\n",
       "}\n",
       ".err-msg.in.collapse {\n",
       "padding-top: 0.7em;\n",
       "}\n",
       ".highlight-code {\n",
       "white-space: pre;\n",
       "font-family: monospace;\n",
       "}\n",
       ".suggestion-warning { \n",
       "font-weight: bold;\n",
       "color: rgb(200, 130, 0);\n",
       "}\n",
       ".suggestion-error { \n",
       "font-weight: bold;\n",
       "color: red;\n",
       "}\n",
       ".suggestion-name {\n",
       "font-weight: bold;\n",
       "}\n",
       "</style><div class=\"suggestion-name\" style=\"clear:both;\">Use list literal</div><div class=\"suggestion-row\" style=\"float: left;\"><div class=\"suggestion-warning\">Found:</div><div class=\"highlight-code\" id=\"haskell\">(:) 1 ((:) 2 ((:) 3 []))</div></div><div class=\"suggestion-row\" style=\"float: left;\"><div class=\"suggestion-warning\">Why Not:</div><div class=\"highlight-code\" id=\"haskell\">[1, 2, 3]</div></div>"
      ],
      "text/plain": [
       "Line 1: Use list literal\n",
       "Found:\n",
       "(:) 1 ((:) 2 ((:) 3 []))\n",
       "Why not:\n",
       "[1, 2, 3]"
      ]
     },
     "metadata": {},
     "output_type": "display_data"
    },
    {
     "data": {
      "text/plain": [
       "[1,2,3]"
      ]
     },
     "metadata": {},
     "output_type": "display_data"
    }
   ],
   "source": [
    "(:) 1 ((:) 2 ((:) 3 [])) --Similar a Oz"
   ]
  },
  {
   "cell_type": "markdown",
   "metadata": {
    "slideshow": {
     "slide_type": "subslide"
    }
   },
   "source": [
    "# Operadores"
   ]
  },
  {
   "cell_type": "code",
   "execution_count": 29,
   "metadata": {},
   "outputs": [
    {
     "data": {
      "text/plain": [
       "[1,2,3,4,5]"
      ]
     },
     "metadata": {},
     "output_type": "display_data"
    },
    {
     "data": {
      "text/plain": [
       "[1.0,1.5,2.0,2.5,3.0,3.5,4.0]"
      ]
     },
     "metadata": {},
     "output_type": "display_data"
    },
    {
     "data": {
      "text/plain": [
       "[1,2,3,4]"
      ]
     },
     "metadata": {},
     "output_type": "display_data"
    },
    {
     "data": {
      "text/plain": [
       "4"
      ]
     },
     "metadata": {},
     "output_type": "display_data"
    }
   ],
   "source": [
    "print [1..5]\n",
    "print [1,1.5..4]\n",
    "print $ [1,2] ++ [3,4]\n",
    "print $ [1..5]!!3"
   ]
  },
  {
   "cell_type": "markdown",
   "metadata": {
    "slideshow": {
     "slide_type": "subslide"
    }
   },
   "source": [
    "# List Monster:\n",
    "\n",
    "![](Imagenes/listmonster.png)"
   ]
  },
  {
   "cell_type": "code",
   "execution_count": 30,
   "metadata": {},
   "outputs": [
    {
     "data": {
      "text/plain": [
       "1"
      ]
     },
     "metadata": {},
     "output_type": "display_data"
    },
    {
     "data": {
      "text/plain": [
       "[2,3,4,5,6,7,8,9,10]"
      ]
     },
     "metadata": {},
     "output_type": "display_data"
    }
   ],
   "source": [
    "print $ head [1..10]\n",
    "print $ tail [1..10]"
   ]
  },
  {
   "cell_type": "markdown",
   "metadata": {
    "slideshow": {
     "slide_type": "subslide"
    }
   },
   "source": [
    "# Otras funciones"
   ]
  },
  {
   "cell_type": "code",
   "execution_count": 31,
   "metadata": {},
   "outputs": [
    {
     "data": {
      "text/plain": [
       "10"
      ]
     },
     "metadata": {},
     "output_type": "display_data"
    },
    {
     "data": {
      "text/plain": [
       "False"
      ]
     },
     "metadata": {},
     "output_type": "display_data"
    },
    {
     "data": {
      "text/plain": [
       "[10,9,8,7,6,5,4,3,2,1]"
      ]
     },
     "metadata": {},
     "output_type": "display_data"
    },
    {
     "data": {
      "text/plain": [
       "[1,2,3,4]"
      ]
     },
     "metadata": {},
     "output_type": "display_data"
    },
    {
     "data": {
      "text/plain": [
       "[5,6,7,8,9,10]"
      ]
     },
     "metadata": {},
     "output_type": "display_data"
    },
    {
     "data": {
      "text/plain": [
       "10"
      ]
     },
     "metadata": {},
     "output_type": "display_data"
    },
    {
     "data": {
      "text/plain": [
       "55"
      ]
     },
     "metadata": {},
     "output_type": "display_data"
    },
    {
     "data": {
      "text/plain": [
       "True"
      ]
     },
     "metadata": {},
     "output_type": "display_data"
    },
    {
     "data": {
      "text/plain": [
       "[(1,5),(2,5),(3,5),(4,5),(5,5)]"
      ]
     },
     "metadata": {},
     "output_type": "display_data"
    }
   ],
   "source": [
    "print $ length [1..10]\n",
    "print $ null [1..10]\n",
    "print $ reverse [1..10]\n",
    "print $ take 4 [1..10] -- idem drop\n",
    "print $ drop 4 [1..10]\n",
    "print $ maximum [1..10] -- idem minimum\n",
    "print $ sum [1..10] -- idem product\n",
    "print $ elem 3 [1..10]\n",
    "print $ zip [1,2,3,4,5] [5,5,5,5,5]  "
   ]
  },
  {
   "cell_type": "markdown",
   "metadata": {
    "slideshow": {
     "slide_type": "subslide"
    }
   },
   "source": [
    "# Otras formas de definir listas"
   ]
  },
  {
   "cell_type": "code",
   "execution_count": 32,
   "metadata": {},
   "outputs": [
    {
     "data": {
      "text/plain": [
       "[0,1,0,1]"
      ]
     },
     "metadata": {},
     "output_type": "display_data"
    }
   ],
   "source": [
    "print $ take 4 $ cycle [0,1]"
   ]
  },
  {
   "cell_type": "code",
   "execution_count": 33,
   "metadata": {},
   "outputs": [
    {
     "data": {
      "text/html": [
       "<style>/* Styles used for the Hoogle display in the pager */\n",
       ".hoogle-doc {\n",
       "display: block;\n",
       "padding-bottom: 1.3em;\n",
       "padding-left: 0.4em;\n",
       "}\n",
       ".hoogle-code {\n",
       "display: block;\n",
       "font-family: monospace;\n",
       "white-space: pre;\n",
       "}\n",
       ".hoogle-text {\n",
       "display: block;\n",
       "}\n",
       ".hoogle-name {\n",
       "color: green;\n",
       "font-weight: bold;\n",
       "}\n",
       ".hoogle-head {\n",
       "font-weight: bold;\n",
       "}\n",
       ".hoogle-sub {\n",
       "display: block;\n",
       "margin-left: 0.4em;\n",
       "}\n",
       ".hoogle-package {\n",
       "font-weight: bold;\n",
       "font-style: italic;\n",
       "}\n",
       ".hoogle-module {\n",
       "font-weight: bold;\n",
       "}\n",
       ".hoogle-class {\n",
       "font-weight: bold;\n",
       "}\n",
       ".get-type {\n",
       "color: green;\n",
       "font-weight: bold;\n",
       "font-family: monospace;\n",
       "display: block;\n",
       "white-space: pre-wrap;\n",
       "}\n",
       ".show-type {\n",
       "color: green;\n",
       "font-weight: bold;\n",
       "font-family: monospace;\n",
       "margin-left: 1em;\n",
       "}\n",
       ".mono {\n",
       "font-family: monospace;\n",
       "display: block;\n",
       "}\n",
       ".err-msg {\n",
       "color: red;\n",
       "font-style: italic;\n",
       "font-family: monospace;\n",
       "white-space: pre;\n",
       "display: block;\n",
       "}\n",
       "#unshowable {\n",
       "color: red;\n",
       "font-weight: bold;\n",
       "}\n",
       ".err-msg.in.collapse {\n",
       "padding-top: 0.7em;\n",
       "}\n",
       ".highlight-code {\n",
       "white-space: pre;\n",
       "font-family: monospace;\n",
       "}\n",
       ".suggestion-warning { \n",
       "font-weight: bold;\n",
       "color: rgb(200, 130, 0);\n",
       "}\n",
       ".suggestion-error { \n",
       "font-weight: bold;\n",
       "color: red;\n",
       "}\n",
       ".suggestion-name {\n",
       "font-weight: bold;\n",
       "}\n",
       "</style><div class=\"suggestion-name\" style=\"clear:both;\">Use replicate</div><div class=\"suggestion-row\" style=\"float: left;\"><div class=\"suggestion-warning\">Found:</div><div class=\"highlight-code\" id=\"haskell\">take 4 $ repeat 1</div></div><div class=\"suggestion-row\" style=\"float: left;\"><div class=\"suggestion-warning\">Why Not:</div><div class=\"highlight-code\" id=\"haskell\">replicate 4 1</div></div>"
      ],
      "text/plain": [
       "Line 1: Use replicate\n",
       "Found:\n",
       "take 4 $ repeat 1\n",
       "Why not:\n",
       "replicate 4 1"
      ]
     },
     "metadata": {},
     "output_type": "display_data"
    },
    {
     "data": {
      "text/plain": [
       "[1,1,1,1]"
      ]
     },
     "metadata": {},
     "output_type": "display_data"
    }
   ],
   "source": [
    "print $ take 4 $ repeat 1"
   ]
  },
  {
   "cell_type": "code",
   "execution_count": 34,
   "metadata": {},
   "outputs": [
    {
     "data": {
      "text/plain": [
       "[2,4,6,8,10,12,14,16,18,20]"
      ]
     },
     "metadata": {},
     "output_type": "display_data"
    },
    {
     "data": {
      "text/plain": [
       "[52,59,66,73,80,87,94]"
      ]
     },
     "metadata": {},
     "output_type": "display_data"
    }
   ],
   "source": [
    "print [x*2 | x <- [1..10]]\n",
    "print [ x | x <- [50..100], x `mod` 7 == 3] "
   ]
  },
  {
   "cell_type": "markdown",
   "metadata": {
    "slideshow": {
     "slide_type": "slide"
    }
   },
   "source": [
    "# Tuplas\n",
    "\n",
    "- Cantidad de elementos conocida\n",
    "- No tienen que ser elementos homogéneos\n",
    "\n"
   ]
  },
  {
   "cell_type": "code",
   "execution_count": 35,
   "metadata": {},
   "outputs": [
    {
     "data": {
      "text/plain": [
       "(\"Christopher\",\"Walken\",55)"
      ]
     },
     "metadata": {},
     "output_type": "display_data"
    }
   ],
   "source": [
    "(\"Christopher\", \"Walken\", 55)"
   ]
  },
  {
   "cell_type": "markdown",
   "metadata": {
    "slideshow": {
     "slide_type": "slide"
    }
   },
   "source": [
    "# Funciones\n",
    "\n",
    "- Son ciudadanos de primera clase\n",
    "- Los operadores también son funciones\n",
    "- También tienen un tipo"
   ]
  },
  {
   "cell_type": "code",
   "execution_count": 36,
   "metadata": {},
   "outputs": [
    {
     "data": {
      "text/html": [
       "<style>/* Styles used for the Hoogle display in the pager */\n",
       ".hoogle-doc {\n",
       "display: block;\n",
       "padding-bottom: 1.3em;\n",
       "padding-left: 0.4em;\n",
       "}\n",
       ".hoogle-code {\n",
       "display: block;\n",
       "font-family: monospace;\n",
       "white-space: pre;\n",
       "}\n",
       ".hoogle-text {\n",
       "display: block;\n",
       "}\n",
       ".hoogle-name {\n",
       "color: green;\n",
       "font-weight: bold;\n",
       "}\n",
       ".hoogle-head {\n",
       "font-weight: bold;\n",
       "}\n",
       ".hoogle-sub {\n",
       "display: block;\n",
       "margin-left: 0.4em;\n",
       "}\n",
       ".hoogle-package {\n",
       "font-weight: bold;\n",
       "font-style: italic;\n",
       "}\n",
       ".hoogle-module {\n",
       "font-weight: bold;\n",
       "}\n",
       ".hoogle-class {\n",
       "font-weight: bold;\n",
       "}\n",
       ".get-type {\n",
       "color: green;\n",
       "font-weight: bold;\n",
       "font-family: monospace;\n",
       "display: block;\n",
       "white-space: pre-wrap;\n",
       "}\n",
       ".show-type {\n",
       "color: green;\n",
       "font-weight: bold;\n",
       "font-family: monospace;\n",
       "margin-left: 1em;\n",
       "}\n",
       ".mono {\n",
       "font-family: monospace;\n",
       "display: block;\n",
       "}\n",
       ".err-msg {\n",
       "color: red;\n",
       "font-style: italic;\n",
       "font-family: monospace;\n",
       "white-space: pre;\n",
       "display: block;\n",
       "}\n",
       "#unshowable {\n",
       "color: red;\n",
       "font-weight: bold;\n",
       "}\n",
       ".err-msg.in.collapse {\n",
       "padding-top: 0.7em;\n",
       "}\n",
       ".highlight-code {\n",
       "white-space: pre;\n",
       "font-family: monospace;\n",
       "}\n",
       ".suggestion-warning { \n",
       "font-weight: bold;\n",
       "color: rgb(200, 130, 0);\n",
       "}\n",
       ".suggestion-error { \n",
       "font-weight: bold;\n",
       "color: red;\n",
       "}\n",
       ".suggestion-name {\n",
       "font-weight: bold;\n",
       "}\n",
       "</style><span class='get-type'>head :: forall a. [a] -> a</span>"
      ],
      "text/plain": [
       "head :: forall a. [a] -> a"
      ]
     },
     "metadata": {},
     "output_type": "display_data"
    }
   ],
   "source": [
    ":t head"
   ]
  },
  {
   "cell_type": "markdown",
   "metadata": {
    "slideshow": {
     "slide_type": "subslide"
    }
   },
   "source": [
    "# Analicemos...\n",
    "\n",
    "```Haskell\n",
    "head :: forall a. [a] -> a\n",
    "```\n",
    "\n",
    "- ¿Qué es ```a```? No empieza con mayuscula => No es un tipo...\n",
    "    - Type Variable.\n",
    "- ¿Qué es el ```forall a```? \n",
    "    - Quiere decir que el comportamiento es el mismo para cualquier tipo.\n",
    "- ¿Y qué es ```[a] -> a```?\n",
    "    - Es el propio tipo de la función (recibe una lista y devuelve un elemento de la lista)"
   ]
  },
  {
   "cell_type": "markdown",
   "metadata": {
    "slideshow": {
     "slide_type": "subslide"
    }
   },
   "source": [
    "# Si los operadores tienen un tipo..."
   ]
  },
  {
   "cell_type": "code",
   "execution_count": 37,
   "metadata": {},
   "outputs": [
    {
     "data": {
      "text/html": [
       "<style>/* Styles used for the Hoogle display in the pager */\n",
       ".hoogle-doc {\n",
       "display: block;\n",
       "padding-bottom: 1.3em;\n",
       "padding-left: 0.4em;\n",
       "}\n",
       ".hoogle-code {\n",
       "display: block;\n",
       "font-family: monospace;\n",
       "white-space: pre;\n",
       "}\n",
       ".hoogle-text {\n",
       "display: block;\n",
       "}\n",
       ".hoogle-name {\n",
       "color: green;\n",
       "font-weight: bold;\n",
       "}\n",
       ".hoogle-head {\n",
       "font-weight: bold;\n",
       "}\n",
       ".hoogle-sub {\n",
       "display: block;\n",
       "margin-left: 0.4em;\n",
       "}\n",
       ".hoogle-package {\n",
       "font-weight: bold;\n",
       "font-style: italic;\n",
       "}\n",
       ".hoogle-module {\n",
       "font-weight: bold;\n",
       "}\n",
       ".hoogle-class {\n",
       "font-weight: bold;\n",
       "}\n",
       ".get-type {\n",
       "color: green;\n",
       "font-weight: bold;\n",
       "font-family: monospace;\n",
       "display: block;\n",
       "white-space: pre-wrap;\n",
       "}\n",
       ".show-type {\n",
       "color: green;\n",
       "font-weight: bold;\n",
       "font-family: monospace;\n",
       "margin-left: 1em;\n",
       "}\n",
       ".mono {\n",
       "font-family: monospace;\n",
       "display: block;\n",
       "}\n",
       ".err-msg {\n",
       "color: red;\n",
       "font-style: italic;\n",
       "font-family: monospace;\n",
       "white-space: pre;\n",
       "display: block;\n",
       "}\n",
       "#unshowable {\n",
       "color: red;\n",
       "font-weight: bold;\n",
       "}\n",
       ".err-msg.in.collapse {\n",
       "padding-top: 0.7em;\n",
       "}\n",
       ".highlight-code {\n",
       "white-space: pre;\n",
       "font-family: monospace;\n",
       "}\n",
       ".suggestion-warning { \n",
       "font-weight: bold;\n",
       "color: rgb(200, 130, 0);\n",
       "}\n",
       ".suggestion-error { \n",
       "font-weight: bold;\n",
       "color: red;\n",
       "}\n",
       ".suggestion-name {\n",
       "font-weight: bold;\n",
       "}\n",
       "</style><span class='get-type'>(==) :: forall a. Eq a => a -> a -> Bool</span>"
      ],
      "text/plain": [
       "(==) :: forall a. Eq a => a -> a -> Bool"
      ]
     },
     "metadata": {},
     "output_type": "display_data"
    }
   ],
   "source": [
    ":t (==)"
   ]
  },
  {
   "cell_type": "markdown",
   "metadata": {
    "slideshow": {
     "slide_type": "fragment"
    }
   },
   "source": [
    "- ¿Qué es ```Eq a```?\n",
    "    - Typeclasses."
   ]
  },
  {
   "cell_type": "markdown",
   "metadata": {
    "slideshow": {
     "slide_type": "fragment"
    }
   },
   "source": [
    "- ¿Por qué ```a -> a -> Bool```?\n",
    "    - Ya lo vamos a ver, pero primero lo primero..."
   ]
  },
  {
   "cell_type": "markdown",
   "metadata": {
    "slideshow": {
     "slide_type": "slide"
    }
   },
   "source": [
    "# Type Variable y Typeclasses\n",
    "\n",
    "- Type variable\n",
    "    - Similares a genéricos en otros lenguajes\n",
    "    - Muchas funciones definidas con Tipos Variables\n",
    "- Typeclasses\n",
    "    - Similares a las interfaces de Java \n",
    "    - Ejemplos notables:\n",
    "        - Eq\n",
    "        - Ord\n",
    "        - Show\n",
    "        - Num\n",
    "        - Integral y Floating\n"
   ]
  },
  {
   "cell_type": "markdown",
   "metadata": {
    "slideshow": {
     "slide_type": "subslide"
    }
   },
   "source": [
    "# Ejemplo de Typeclasses\n",
    "\n",
    "```Haskell\n",
    "class Eq a where  \n",
    "    (==) :: a -> a -> Bool  \n",
    "    (/=) :: a -> a -> Bool  \n",
    "    x == y = not (x /= y)  \n",
    "    x /= y = not (x == y)\n",
    "```"
   ]
  },
  {
   "cell_type": "markdown",
   "metadata": {
    "slideshow": {
     "slide_type": "slide"
    }
   },
   "source": [
    "# Y volviendo a las funciones, si tienen más variables..."
   ]
  },
  {
   "cell_type": "code",
   "execution_count": 38,
   "metadata": {},
   "outputs": [
    {
     "data": {
      "text/html": [
       "<style>/* Styles used for the Hoogle display in the pager */\n",
       ".hoogle-doc {\n",
       "display: block;\n",
       "padding-bottom: 1.3em;\n",
       "padding-left: 0.4em;\n",
       "}\n",
       ".hoogle-code {\n",
       "display: block;\n",
       "font-family: monospace;\n",
       "white-space: pre;\n",
       "}\n",
       ".hoogle-text {\n",
       "display: block;\n",
       "}\n",
       ".hoogle-name {\n",
       "color: green;\n",
       "font-weight: bold;\n",
       "}\n",
       ".hoogle-head {\n",
       "font-weight: bold;\n",
       "}\n",
       ".hoogle-sub {\n",
       "display: block;\n",
       "margin-left: 0.4em;\n",
       "}\n",
       ".hoogle-package {\n",
       "font-weight: bold;\n",
       "font-style: italic;\n",
       "}\n",
       ".hoogle-module {\n",
       "font-weight: bold;\n",
       "}\n",
       ".hoogle-class {\n",
       "font-weight: bold;\n",
       "}\n",
       ".get-type {\n",
       "color: green;\n",
       "font-weight: bold;\n",
       "font-family: monospace;\n",
       "display: block;\n",
       "white-space: pre-wrap;\n",
       "}\n",
       ".show-type {\n",
       "color: green;\n",
       "font-weight: bold;\n",
       "font-family: monospace;\n",
       "margin-left: 1em;\n",
       "}\n",
       ".mono {\n",
       "font-family: monospace;\n",
       "display: block;\n",
       "}\n",
       ".err-msg {\n",
       "color: red;\n",
       "font-style: italic;\n",
       "font-family: monospace;\n",
       "white-space: pre;\n",
       "display: block;\n",
       "}\n",
       "#unshowable {\n",
       "color: red;\n",
       "font-weight: bold;\n",
       "}\n",
       ".err-msg.in.collapse {\n",
       "padding-top: 0.7em;\n",
       "}\n",
       ".highlight-code {\n",
       "white-space: pre;\n",
       "font-family: monospace;\n",
       "}\n",
       ".suggestion-warning { \n",
       "font-weight: bold;\n",
       "color: rgb(200, 130, 0);\n",
       "}\n",
       ".suggestion-error { \n",
       "font-weight: bold;\n",
       "color: red;\n",
       "}\n",
       ".suggestion-name {\n",
       "font-weight: bold;\n",
       "}\n",
       "</style><span class='get-type'>take :: forall a. Int -> [a] -> [a]</span>"
      ],
      "text/plain": [
       "take :: forall a. Int -> [a] -> [a]"
      ]
     },
     "metadata": {},
     "output_type": "display_data"
    }
   ],
   "source": [
    ":t take"
   ]
  },
  {
   "cell_type": "markdown",
   "metadata": {
    "slideshow": {
     "slide_type": "fragment"
    }
   },
   "source": [
    "__¿Por qué no es como en un lenguaje normal?__\n",
    "\n",
    "```Haskell\n",
    "Int -> [a] -> [a]\n",
    "```"
   ]
  },
  {
   "cell_type": "markdown",
   "metadata": {
    "slideshow": {
     "slide_type": "fragment"
    }
   },
   "source": [
    "Pista: __Haskell Curry__"
   ]
  },
  {
   "cell_type": "markdown",
   "metadata": {
    "slideshow": {
     "slide_type": "fragment"
    }
   },
   "source": [
    "Rta: __Currying__"
   ]
  },
  {
   "cell_type": "markdown",
   "metadata": {
    "slideshow": {
     "slide_type": "subslide"
    }
   },
   "source": [
    "# Currying \n",
    "\n",
    "- En Haskell hay Currying\n",
    "- Declaración:\n",
    "```Haskell\n",
    "    Int -> ([a] -> [a])\n",
    "```\n",
    "- Aplicación:\n",
    "```Haskell\n",
    "    (Int -> [a]) -> [a]\n",
    "```\n",
    "- Si se quiere evitar el currying (uncurrying) se pueden usar tuplas, y hacer que tome como argumento una tupla de argumentos."
   ]
  },
  {
   "cell_type": "markdown",
   "metadata": {
    "slideshow": {
     "slide_type": "subslide"
    }
   },
   "source": [
    "- __Aplicaciones parciales__, ¿Qué pasa si le paso menos parámetros a una función de los que necesita?"
   ]
  },
  {
   "cell_type": "code",
   "execution_count": 39,
   "metadata": {},
   "outputs": [
    {
     "data": {
      "text/html": [
       "<style>/* Styles used for the Hoogle display in the pager */\n",
       ".hoogle-doc {\n",
       "display: block;\n",
       "padding-bottom: 1.3em;\n",
       "padding-left: 0.4em;\n",
       "}\n",
       ".hoogle-code {\n",
       "display: block;\n",
       "font-family: monospace;\n",
       "white-space: pre;\n",
       "}\n",
       ".hoogle-text {\n",
       "display: block;\n",
       "}\n",
       ".hoogle-name {\n",
       "color: green;\n",
       "font-weight: bold;\n",
       "}\n",
       ".hoogle-head {\n",
       "font-weight: bold;\n",
       "}\n",
       ".hoogle-sub {\n",
       "display: block;\n",
       "margin-left: 0.4em;\n",
       "}\n",
       ".hoogle-package {\n",
       "font-weight: bold;\n",
       "font-style: italic;\n",
       "}\n",
       ".hoogle-module {\n",
       "font-weight: bold;\n",
       "}\n",
       ".hoogle-class {\n",
       "font-weight: bold;\n",
       "}\n",
       ".get-type {\n",
       "color: green;\n",
       "font-weight: bold;\n",
       "font-family: monospace;\n",
       "display: block;\n",
       "white-space: pre-wrap;\n",
       "}\n",
       ".show-type {\n",
       "color: green;\n",
       "font-weight: bold;\n",
       "font-family: monospace;\n",
       "margin-left: 1em;\n",
       "}\n",
       ".mono {\n",
       "font-family: monospace;\n",
       "display: block;\n",
       "}\n",
       ".err-msg {\n",
       "color: red;\n",
       "font-style: italic;\n",
       "font-family: monospace;\n",
       "white-space: pre;\n",
       "display: block;\n",
       "}\n",
       "#unshowable {\n",
       "color: red;\n",
       "font-weight: bold;\n",
       "}\n",
       ".err-msg.in.collapse {\n",
       "padding-top: 0.7em;\n",
       "}\n",
       ".highlight-code {\n",
       "white-space: pre;\n",
       "font-family: monospace;\n",
       "}\n",
       ".suggestion-warning { \n",
       "font-weight: bold;\n",
       "color: rgb(200, 130, 0);\n",
       "}\n",
       ".suggestion-error { \n",
       "font-weight: bold;\n",
       "color: red;\n",
       "}\n",
       ".suggestion-name {\n",
       "font-weight: bold;\n",
       "}\n",
       "</style><span class='get-type'>take5 :: forall a. [a] -> [a]</span>"
      ],
      "text/plain": [
       "take5 :: forall a. [a] -> [a]"
      ]
     },
     "metadata": {},
     "output_type": "display_data"
    }
   ],
   "source": [
    "take5 = take 5\n",
    ":t take5"
   ]
  },
  {
   "cell_type": "markdown",
   "metadata": {
    "slideshow": {
     "slide_type": "slide"
    }
   },
   "source": [
    "# Pattern Matching\n",
    "\n",
    "- Usado principalmente en funciones\n",
    "- Ejemplo Factorial\n",
    "- En realidad es “syntactic sugar”\n",
    "- La forma original es parecida a Oz\n",
    "    - Case ... of … -> Valor de retorno\n",
    "- Recordar siempre agregar un “catch-all case”\n",
    "- Patrón muy usado “x:xs”\n",
    "    - Equivalente al H|T de Oz\n"
   ]
  },
  {
   "cell_type": "code",
   "execution_count": 40,
   "metadata": {
    "slideshow": {
     "slide_type": "subslide"
    }
   },
   "outputs": [
    {
     "data": {
      "text/plain": [
       "24"
      ]
     },
     "metadata": {},
     "output_type": "display_data"
    }
   ],
   "source": [
    "factorial :: (Integral a) => a -> a  \n",
    "factorial 0 = 1  \n",
    "factorial n = n * factorial (n - 1) \n",
    "\n",
    "factorial 4"
   ]
  },
  {
   "cell_type": "markdown",
   "metadata": {
    "slideshow": {
     "slide_type": "subslide"
    }
   },
   "source": [
    "# Necesidad de catch-all"
   ]
  },
  {
   "cell_type": "code",
   "execution_count": 41,
   "metadata": {},
   "outputs": [
    {
     "data": {
      "text/html": [
       "<style>/* Styles used for the Hoogle display in the pager */\n",
       ".hoogle-doc {\n",
       "display: block;\n",
       "padding-bottom: 1.3em;\n",
       "padding-left: 0.4em;\n",
       "}\n",
       ".hoogle-code {\n",
       "display: block;\n",
       "font-family: monospace;\n",
       "white-space: pre;\n",
       "}\n",
       ".hoogle-text {\n",
       "display: block;\n",
       "}\n",
       ".hoogle-name {\n",
       "color: green;\n",
       "font-weight: bold;\n",
       "}\n",
       ".hoogle-head {\n",
       "font-weight: bold;\n",
       "}\n",
       ".hoogle-sub {\n",
       "display: block;\n",
       "margin-left: 0.4em;\n",
       "}\n",
       ".hoogle-package {\n",
       "font-weight: bold;\n",
       "font-style: italic;\n",
       "}\n",
       ".hoogle-module {\n",
       "font-weight: bold;\n",
       "}\n",
       ".hoogle-class {\n",
       "font-weight: bold;\n",
       "}\n",
       ".get-type {\n",
       "color: green;\n",
       "font-weight: bold;\n",
       "font-family: monospace;\n",
       "display: block;\n",
       "white-space: pre-wrap;\n",
       "}\n",
       ".show-type {\n",
       "color: green;\n",
       "font-weight: bold;\n",
       "font-family: monospace;\n",
       "margin-left: 1em;\n",
       "}\n",
       ".mono {\n",
       "font-family: monospace;\n",
       "display: block;\n",
       "}\n",
       ".err-msg {\n",
       "color: red;\n",
       "font-style: italic;\n",
       "font-family: monospace;\n",
       "white-space: pre;\n",
       "display: block;\n",
       "}\n",
       "#unshowable {\n",
       "color: red;\n",
       "font-weight: bold;\n",
       "}\n",
       ".err-msg.in.collapse {\n",
       "padding-top: 0.7em;\n",
       "}\n",
       ".highlight-code {\n",
       "white-space: pre;\n",
       "font-family: monospace;\n",
       "}\n",
       ".suggestion-warning { \n",
       "font-weight: bold;\n",
       "color: rgb(200, 130, 0);\n",
       "}\n",
       ".suggestion-error { \n",
       "font-weight: bold;\n",
       "color: red;\n",
       "}\n",
       ".suggestion-name {\n",
       "font-weight: bold;\n",
       "}\n",
       "</style><span class='err-msg'>&lt;interactive&gt;:(2,1)-(4,22): Non-exhaustive patterns in function charName</span>"
      ],
      "text/plain": [
       "<interactive>:(2,1)-(4,22): Non-exhaustive patterns in function charName"
      ]
     },
     "metadata": {},
     "output_type": "display_data"
    }
   ],
   "source": [
    "charName :: Char -> String  \n",
    "charName 'a' = \"Albert\"  \n",
    "charName 'b' = \"Broseph\"  \n",
    "charName 'c' = \"Cecil\"\n",
    "\n",
    "charName 'd'"
   ]
  },
  {
   "cell_type": "markdown",
   "metadata": {
    "slideshow": {
     "slide_type": "subslide"
    }
   },
   "source": [
    "# Y como sería con el case..."
   ]
  },
  {
   "cell_type": "code",
   "execution_count": 42,
   "metadata": {
    "slideshow": {
     "slide_type": "-"
    }
   },
   "outputs": [
    {
     "data": {
      "text/plain": [
       "1"
      ]
     },
     "metadata": {},
     "output_type": "display_data"
    }
   ],
   "source": [
    "head' :: [a] -> a  \n",
    "head' [] = error \"No head for empty lists!\"  \n",
    "head' (x:_) = x\n",
    "\n",
    "head' [1,2,3,4]"
   ]
  },
  {
   "cell_type": "code",
   "execution_count": 43,
   "metadata": {},
   "outputs": [
    {
     "data": {
      "text/plain": [
       "1"
      ]
     },
     "metadata": {},
     "output_type": "display_data"
    }
   ],
   "source": [
    "head_ xs = case xs of [] -> error \"No head for empty lists!\"  \n",
    "                      (x:_) -> x \n",
    "\n",
    "head_ [1,2,3,4]"
   ]
  },
  {
   "cell_type": "markdown",
   "metadata": {
    "slideshow": {
     "slide_type": "slide"
    }
   },
   "source": [
    "# Funciones Lambda\n",
    "\n",
    "- Proviene del Lambda Calculus\n",
    "- Funciones anónimas: funciones que no necesitan un nombre, es decir que se pueden evaluar en la expresión directamente. \n",
    "![](Imagenes/logo.png)"
   ]
  },
  {
   "cell_type": "code",
   "execution_count": 44,
   "metadata": {
    "slideshow": {
     "slide_type": "fragment"
    }
   },
   "outputs": [
    {
     "data": {
      "text/plain": [
       "[2,6,12,20,30]"
      ]
     },
     "metadata": {},
     "output_type": "display_data"
    }
   ],
   "source": [
    "map (\\x -> x^2 + x) [1,2,3,4,5] "
   ]
  },
  {
   "cell_type": "markdown",
   "metadata": {
    "slideshow": {
     "slide_type": "slide"
    }
   },
   "source": [
    "# Scope de las funciones\n",
    "\n",
    "- Scope estático: La estructura del programa define a que variable se refiere, queda definido en tiempo de compilación.\n",
    "- Scope dinámico: El estado actual del stack define a que variable se refiere, se define en tiempo de ejecución.\n",
    "\n",
    "- __Haskell tiene scope estático!__"
   ]
  },
  {
   "cell_type": "markdown",
   "metadata": {
    "slideshow": {
     "slide_type": "slide"
    }
   },
   "source": [
    "# Haskell es Lazy\n",
    "\n",
    "- Haskell es Lazy: Es decir, las expresiones son evaluadas recién cuando son necesitas. \n",
    "\n",
    "Ejemplo:\n"
   ]
  },
  {
   "cell_type": "code",
   "execution_count": 45,
   "metadata": {},
   "outputs": [
    {
     "data": {
      "text/plain": [
       "0"
      ]
     },
     "metadata": {},
     "output_type": "display_data"
    }
   ],
   "source": [
    "f :: Int -> Int -> Int\n",
    "f x y = case x > 0 of\n",
    "        True  -> x - 1\n",
    "        False -> x + 1\n",
    "f 1 (product [1..])"
   ]
  },
  {
   "cell_type": "markdown",
   "metadata": {
    "slideshow": {
     "slide_type": "slide"
    }
   },
   "source": [
    "# Pasaje por Parámetros\n",
    "\n",
    "- Repasado el concepto de Lazy, se puede decir que cuenta con un pasaje por parametro “by need”. \n",
    "\n",
    "                by name + Lazy == by need"
   ]
  },
  {
   "cell_type": "markdown",
   "metadata": {
    "slideshow": {
     "slide_type": "slide"
    }
   },
   "source": [
    "# Tipos de Datos definidos por usuario\n",
    "\n",
    "- Palabra reservada data\n",
    "    - Value constructors = funciones\n",
    "- Para agregarlo a un Typeclass, se usa “deriving”\n",
    "    - Ej.: Show, para que Haskell sepa como imprimirlo\n",
    "- Problemas con muchos campos\n",
    "    - Dificil devolver un campo solo\n",
    "    - Se usa la sintaxis de record\n",
    "- También se pueden hacer typeclass definidos por usuario\n",
    "    - Palabra reservada class"
   ]
  },
  {
   "cell_type": "code",
   "execution_count": null,
   "metadata": {
    "collapsed": true,
    "slideshow": {
     "slide_type": "subslide"
    }
   },
   "outputs": [],
   "source": [
    "data Shape = Circle Float Float Float | Rectangle Float Float \n",
    "                                                    Float Float"
   ]
  },
  {
   "cell_type": "code",
   "execution_count": null,
   "metadata": {
    "collapsed": true,
    "slideshow": {
     "slide_type": "-"
    }
   },
   "outputs": [],
   "source": [
    "data Person = Person String String Int Float String String \n",
    "                                            deriving (Show)\n",
    "\n",
    "firstName :: Person -> String  \n",
    "firstName (Person firstname _ _ _ _ _) = firstname \n",
    "\n",
    "matias = Person \"matias\" \"cano\" 21 1.79 \"15-5040-2020\" \"dulce de leche\"\n",
    "\n",
    "print $ firstName matias\n",
    "print matias"
   ]
  },
  {
   "cell_type": "code",
   "execution_count": null,
   "metadata": {
    "collapsed": true,
    "slideshow": {
     "slide_type": "subslide"
    }
   },
   "outputs": [],
   "source": [
    "data Person = Person { firstName :: String  \n",
    "                     , lastName :: String  \n",
    "                     , age :: Int  \n",
    "                     , height :: Float  \n",
    "                     , phoneNumber :: String  \n",
    "                     , flavor :: String  \n",
    "          } deriving (Show)\n",
    "          \n",
    "matias = Person \"matias\" \"cano\" 21 1.79 \"15-5040-2020\" \"dulce de leche\"\n",
    "\n",
    "print $ age matias\n",
    "print matias"
   ]
  },
  {
   "cell_type": "markdown",
   "metadata": {
    "slideshow": {
     "slide_type": "slide"
    }
   },
   "source": [
    "# Maybe\n",
    "\n",
    "- Maybe: Retorno seguro. Devuelve nada o solo algo.\n",
    "```Haskell\n",
    "    data Maybe a = Nothing | Just a\n",
    "```\n",
    "    - Algo es un solo elemento. Si devuelvo más de uno, es mejor usar lista vacía.\n"
   ]
  },
  {
   "cell_type": "markdown",
   "metadata": {
    "slideshow": {
     "slide_type": "subslide"
    }
   },
   "source": [
    "# Either\n",
    "\n",
    "- Either: 2 valores. Izquierdo o derecho.\n",
    "```Haskell\n",
    "    data Either a b = Left a | Right b deriving (Eq, Ord, Read, Show)\n",
    "```\n",
    "    - El valor “a” contiene el tipo si hubo un error\n",
    "    - El valor “b” contiene el resultado de la correcta ejecución."
   ]
  },
  {
   "cell_type": "markdown",
   "metadata": {
    "slideshow": {
     "slide_type": "slide"
    }
   },
   "source": [
    "# Functores\n",
    "\n",
    "- Typeclass para “cosas” que se pueden mapear\n",
    "    - Listas, Maybe, Tree\n",
    "- Tiene una sola función fmap (o <$>)\n",
    "    - ```fmap :: (a -> b) -> f a -> f b ```\n",
    "    - Map es fmap pero solo para listas\n",
    "    - Se aplica sobre tipos que actúan como una caja\n",
    "- Para que un tipo sea un functor tiene que definir cómo se aplica fmap\n",
    "\n"
   ]
  },
  {
   "cell_type": "markdown",
   "metadata": {
    "slideshow": {
     "slide_type": "subslide"
    }
   },
   "source": [
    "# Ejemplo\n",
    "\n",
    "![](Imagenes/functor-1.png)\n"
   ]
  },
  {
   "cell_type": "code",
   "execution_count": 46,
   "metadata": {},
   "outputs": [
    {
     "data": {
      "text/plain": [
       "Just 5"
      ]
     },
     "metadata": {},
     "output_type": "display_data"
    }
   ],
   "source": [
    "fmap (+3) (Just 2)"
   ]
  },
  {
   "cell_type": "markdown",
   "metadata": {
    "slideshow": {
     "slide_type": "subslide"
    }
   },
   "source": [
    "# Maybe es un functor!\n",
    "\n",
    "```Haskell\n",
    "    instance Functor Maybe where\n",
    "        fmap func (Just val) = Just (func val)\n",
    "        fmap func Nothing = Nothing\n",
    "```"
   ]
  },
  {
   "cell_type": "markdown",
   "metadata": {
    "slideshow": {
     "slide_type": "subslide"
    }
   },
   "source": [
    "# Otro ejemplo\n",
    "\n",
    "![](Imagenes/functor-2.png)"
   ]
  },
  {
   "cell_type": "markdown",
   "metadata": {
    "slideshow": {
     "slide_type": "slide"
    }
   },
   "source": [
    "# Applicatives\n",
    "\n",
    "- No sólo los valores están en cajas, la función a aplicar también.\n",
    "    - Comando <*>\n",
    "- Sabe cómo aplicar esa función en caja a un valor en caja\n",
    "- Puede aplicar funciones que tienen más de un argumento\n"
   ]
  },
  {
   "cell_type": "markdown",
   "metadata": {
    "slideshow": {
     "slide_type": "subslide"
    }
   },
   "source": [
    "# Ejemplo\n",
    "\n",
    "![](Imagenes/applicative-1.png)\n"
   ]
  },
  {
   "cell_type": "code",
   "execution_count": 47,
   "metadata": {},
   "outputs": [
    {
     "data": {
      "text/plain": [
       "Just 5"
      ]
     },
     "metadata": {},
     "output_type": "display_data"
    }
   ],
   "source": [
    "import Control.Applicative\n",
    "Just (+3) <*> Just 2"
   ]
  },
  {
   "cell_type": "markdown",
   "metadata": {
    "slideshow": {
     "slide_type": "subslide"
    }
   },
   "source": [
    "# Otro ejemplo\n",
    "\n",
    "![](Imagenes/applicative-2.png)\n"
   ]
  },
  {
   "cell_type": "code",
   "execution_count": 48,
   "metadata": {},
   "outputs": [
    {
     "data": {
      "text/plain": [
       "[2,4,6,4,5,6]"
      ]
     },
     "metadata": {},
     "output_type": "display_data"
    }
   ],
   "source": [
    "[(*2), (+3)] <*> [1, 2, 3]"
   ]
  },
  {
   "cell_type": "markdown",
   "metadata": {
    "slideshow": {
     "slide_type": "slide"
    }
   },
   "source": [
    "# Monadas\n",
    "\n",
    "> _“Monads provide a convenient framework for simulating effects found in other languages, such as global state, exception handling, output, or non-determinism.”_\n",
    "\n",
    "- 2 funciones importantes:\n",
    "```Haskell\n",
    "    (>>=) :: m a -> (a -> m b) -> m b \n",
    "```\n",
    "```Haskell\n",
    "    return :: a -> m a  \n",
    "```"
   ]
  },
  {
   "cell_type": "markdown",
   "metadata": {
    "slideshow": {
     "slide_type": "subslide"
    }
   },
   "source": [
    "# Ejemplo"
   ]
  },
  {
   "cell_type": "code",
   "execution_count": null,
   "metadata": {
    "collapsed": true
   },
   "outputs": [],
   "source": [
    "half x = if even x\n",
    "           then Just (x `div` 2)\n",
    "           else Nothing"
   ]
  },
  {
   "cell_type": "code",
   "execution_count": 49,
   "metadata": {},
   "outputs": [
    {
     "data": {
      "text/plain": [
       "Nothing"
      ]
     },
     "metadata": {},
     "output_type": "display_data"
    }
   ],
   "source": [
    "Just 3 >>= half"
   ]
  },
  {
   "cell_type": "code",
   "execution_count": 50,
   "metadata": {},
   "outputs": [
    {
     "data": {
      "text/plain": [
       "Just 2"
      ]
     },
     "metadata": {},
     "output_type": "display_data"
    }
   ],
   "source": [
    "Just 4 >>= half"
   ]
  },
  {
   "cell_type": "markdown",
   "metadata": {
    "slideshow": {
     "slide_type": "subslide"
    }
   },
   "source": [
    "# Reglas Monadas\n",
    "\n",
    "- Left Identity  \n",
    "    ```return a >>= f   ≡   f a ```\n",
    "- Right Identity  \n",
    "    ```m >>= return   ≡   m ```\n",
    "- Associativity  \n",
    "    ```(m >>= f) >>= g   ≡   m >>= (\\x -> f x >>= g) ```"
   ]
  },
  {
   "cell_type": "markdown",
   "metadata": {
    "slideshow": {
     "slide_type": "subslide"
    }
   },
   "source": [
    "# Ejemplo de Monadas en Haskell\n",
    "\n",
    "- Listas\n",
    "- IO\n",
    "- Maybe (También es una Monada!)\n",
    "```Haskell    \n",
    "(>>=) :: Maybe a -> (a -> Maybe b) -> Maybe b\n",
    "(>>) :: Maybe a -> Maybe b -> Maybe b\n",
    "return :: a -> Maybe a\n",
    "fail :: String -> Maybe a\n",
    "```"
   ]
  },
  {
   "cell_type": "markdown",
   "metadata": {
    "slideshow": {
     "slide_type": "slide"
    }
   },
   "source": [
    "# Unas estadísticas de monadas\n",
    "\n",
    "![](Imagenes/monads-stats.png)\n",
    "\n",
    "# Conclusiones\n",
    "\n",
    "![](Imagenes/recap.png)\n"
   ]
  },
  {
   "cell_type": "markdown",
   "metadata": {
    "slideshow": {
     "slide_type": "slide"
    }
   },
   "source": [
    "# Manejo de Excepciones\n",
    "\n",
    "- Sistema de Tipado\n",
    "    - Funciones pueden devolver los tipos Maybe o Either\n",
    "- I/O requiere Excepciones\n",
    "    - Funcion catch de System.IO.Error\n",
    "    - Tipos de IO Exceptions capturables\n",
    "        - isAlreadyExistsError\n",
    "        - isDoesNotExistError\n",
    "        - isAlreadyInUseError\n",
    "        - isEOFError\n",
    "        - isPermissionError\n"
   ]
  },
  {
   "cell_type": "markdown",
   "metadata": {
    "slideshow": {
     "slide_type": "subslide"
    }
   },
   "source": [
    "```Haskell\n",
    "catch :: IO a -> (IOError -> IO a) -> IO a\n",
    "```"
   ]
  },
  {
   "cell_type": "code",
   "execution_count": 51,
   "metadata": {},
   "outputs": [
    {
     "data": {
      "text/plain": [
       "Whoops, had some trouble!"
      ]
     },
     "metadata": {},
     "output_type": "display_data"
    }
   ],
   "source": [
    "import System.Environment  \n",
    "import System.IO  \n",
    "import System.IO.Error  \n",
    "import Control.Exception\n",
    "\n",
    "main = toTry `catch` handler  \n",
    "              \n",
    "toTry :: IO ()  \n",
    "toTry = do (fileName:_) <- getArgs  \n",
    "           contents <- readFile fileName  \n",
    "           putStrLn $ \"The file has \" ++ show (length (lines contents)) ++ \" lines!\"  \n",
    "  \n",
    "handler :: IOError -> IO ()  \n",
    "handler e = putStrLn \"Whoops, had some trouble!\"\n",
    "\n",
    "main"
   ]
  },
  {
   "cell_type": "markdown",
   "metadata": {
    "slideshow": {
     "slide_type": "slide"
    }
   },
   "source": [
    "# Concurrencia\n",
    "\n",
    "- Se puede importar con ```import Control.Concurrent```\n",
    "\n",
    "\n",
    "- __forkIO__: Permite crear un nuevo thread\n",
    "- __MVar__: Es la principal forma que provee Haskell de comunicarse entre hilos.\n",
    "- __Chan__: También se puede usar Chan como me dio de comunicación entre Threads. La diferencia es que envía información en una sola dirección.\n"
   ]
  },
  {
   "cell_type": "markdown",
   "metadata": {
    "slideshow": {
     "slide_type": "slide"
    }
   },
   "source": [
    "# Paralelismo\n",
    "\n",
    "- Se puede importar con ```import Control.Parallel```\n"
   ]
  },
  {
   "cell_type": "markdown",
   "metadata": {},
   "source": [
    "__Secuencial:__\n",
    "```Haskell\n",
    "let a = f x\n",
    "let b = f y \n",
    "(a, b)\n",
    "```\n",
    "__Paralelo:__\n",
    "```Haskell\n",
    "runEval $ do \n",
    "a <- rpar (f x) \n",
    "b <- rpar (f y) \n",
    "rseq a \n",
    "rseq b \n",
    "return (a,b)\n",
    "```"
   ]
  },
  {
   "cell_type": "markdown",
   "metadata": {
    "slideshow": {
     "slide_type": "slide"
    }
   },
   "source": [
    "# Corrutinas\n",
    "\n",
    "- Se puede inportar con ```import Control.Monad.Coroutine```\n",
    "- Tambien sirven para \"distribuir tareas\", permite pausar secuencias de instrucciones (corutinas) y continuar ejecutando otro código, posteriormente se puede volver a la secuencia inicial."
   ]
  },
  {
   "cell_type": "markdown",
   "metadata": {
    "slideshow": {
     "slide_type": "slide"
    }
   },
   "source": [
    "# Garbage Collector\n",
    "\n",
    "\n",
    "- Datos inmutables -> Más basura en memoria\n",
    "    - Ventaja: Objetos viejos no pueden apuntar a objetos nuevos.\n",
    "- GC Generacional\n",
    "    - Datos nuevos alocados en una “nursery” de 512Kb.\n",
    "    - Cuando se llena, los valores referenciados se copian a memoria principal.\n",
    "    - El resto no se toca.\n",
    "- Ejemplo:\n",
    "    - Si un algoritmo recursivo llena la “nursery” de variables solo la última “generación” de valores referenciados se copia a memoria principal.\n"
   ]
  },
  {
   "cell_type": "markdown",
   "metadata": {
    "slideshow": {
     "slide_type": "slide"
    }
   },
   "source": [
    "# Usos en la actualidad\n",
    "\n",
    "- ABN AMRO\n",
    "    - Medición de riesgos\n",
    "- Alcatel-Lucent\n",
    "    - Radio de ancho de banda estrecho.\n",
    "- Amgen\n",
    "    - Biología molecular\n",
    "    - Modelos matemáticos \n",
    "- Ansemond LLC\n",
    "    - Find It! Keep It! - Web Browser para MAC\n",
    "- AT&T\n",
    "    - Proceso automático de quejas\n"
   ]
  },
  {
   "cell_type": "markdown",
   "metadata": {
    "slideshow": {
     "slide_type": "subslide"
    }
   },
   "source": [
    "- Bank of America\n",
    "    - Transformación de datos\n",
    "- Facebook\n",
    "    - Manipulación de código PHP\n",
    "- Google\n",
    "    - Soporte de infraestructura de IT\n",
    "    - Proyecto Ganeti\n",
    "- Intel\n",
    "    - Compilador\n",
    "- Microsoft\n",
    "    - Bond, sistema de serialización de producción."
   ]
  },
  {
   "cell_type": "markdown",
   "metadata": {
    "slideshow": {
     "slide_type": "slide"
    }
   },
   "source": [
    "# ¿Preguntas?"
   ]
  },
  {
   "cell_type": "markdown",
   "metadata": {
    "slideshow": {
     "slide_type": "slide"
    }
   },
   "source": [
    "# Unos ejemplos finales!"
   ]
  },
  {
   "cell_type": "markdown",
   "metadata": {
    "slideshow": {
     "slide_type": "subslide"
    }
   },
   "source": [
    "# K-Means"
   ]
  },
  {
   "cell_type": "code",
   "execution_count": 1,
   "metadata": {
    "collapsed": true,
    "slideshow": {
     "slide_type": "-"
    }
   },
   "outputs": [],
   "source": [
    "import Data.Map (Map)\n",
    "import qualified Data.Map as Map\n",
    "import Data.List (minimumBy, sort, transpose)\n",
    "import Data.Ord (comparing)\n",
    "\n",
    "type Point = [Double]\n",
    "\n",
    "-- Euclidian distance function\n",
    "dist :: Point -> Point -> Double\n",
    "dist a b = sqrt $ sum $ map (^2) $ zipWith (-) a b\n",
    "\n",
    "-- Assign points to closest centroids\n",
    "assign :: [Point] -> [Point] -> Map Point [Point]\n",
    "assign centroids points = Map.fromListWith (++) \n",
    "                          [(assignPoint p, [p]) | p <- points]\n",
    "  where assignPoint p = minimumBy (comparing (dist p)) centroids\n",
    "\n",
    "-- Relocate centroids to the middle of its group\n",
    "relocate :: Map Point [Point] -> Map Point [Point]\n",
    "relocate centroidsMap = Map.foldWithKey insertCenter Map.empty centroidsMap\n",
    "  where insertCenter _ ps m = Map.insert (center ps) ps m\n",
    "        center [] = [0,0]\n",
    "        center ps = map average (transpose ps)\n",
    "        average xs = sum xs / fromIntegral (length xs)\n",
    "        "
   ]
  },
  {
   "cell_type": "code",
   "execution_count": 2,
   "metadata": {
    "slideshow": {
     "slide_type": "subslide"
    }
   },
   "outputs": [
    {
     "data": {
      "text/plain": [
       "[[0.5,0.5],[8.0,6.0]]"
      ]
     },
     "metadata": {},
     "output_type": "display_data"
    }
   ],
   "source": [
    "-- Assign points and relocate centroids until centroids converge\n",
    "kmeans :: [Point] -> [Point] -> [Point]\n",
    "kmeans centroids points = \n",
    "  if converged then centroids else kmeans (Map.keys newCentroidsMap) points\n",
    "    where converged = all (< 0.00001) $ \n",
    "            zipWith dist (sort centroids) (Map.keys newCentroidsMap)\n",
    "          newCentroidsMap = relocate (assign centroids points)\n",
    "          equal a b = dist a b < 0.00001\n",
    "\n",
    "-- Run the kmeans algorithm on test points\n",
    "main = do\n",
    "  let points = [[0,0], [1,0], [0,1], [1,1], [7,5], [9,6], [8,7]]\n",
    "  let centroids = kmeans (take 2 points) points\n",
    "  print centroids -- [[0.5,0.5],[8.0,6.0]]\n",
    "\n",
    "main"
   ]
  },
  {
   "cell_type": "markdown",
   "metadata": {
    "slideshow": {
     "slide_type": "skip"
    }
   },
   "source": [
    "# Ejemplo de Cadena de Markov\n",
    "\n",
    "(Hay una librería para eso)"
   ]
  },
  {
   "cell_type": "code",
   "execution_count": 3,
   "metadata": {
    "slideshow": {
     "slide_type": "skip"
    }
   },
   "outputs": [
    {
     "data": {
      "text/plain": [
       "Generated character by character: \n",
       "\n",
       "The gravasing law beingeror Buttococcupies on his the of this be populate huge thous of diseaboved t\n",
       "\n",
       "Generated word by word: \n",
       "\n",
       "The Project Gutenberg Literary Archive Foundation are tax deductible to the mercy of coarse, robust build, broad in the subcutaneous and intermuscular septa giving rise to lesions in the writings of Locke, also took up the leg and foot, and transmit it to someone else. Pierre felt that an imposture? It was plain that they were neither few nor insignificant, urged that such utterances were received into the circulation. The fourteenth amendment to the two first questions by giving small quantities of coarse rye bread contaminated with tuberculous abscess. After the death of Count Bezukhov and the same way, and"
      ]
     },
     "metadata": {},
     "output_type": "display_data"
    }
   ],
   "source": [
    "import Data.MarkovChain\n",
    "import System.Random (mkStdGen)\n",
    "\n",
    "-- Using a Markov chain\n",
    "main = do\n",
    "  rawText <- readFile \"big.txt\"\n",
    "  let g = mkStdGen 100\n",
    "  putStrLn \"Generated character by character: \\n\"\n",
    "  putStrLn $ take 100 $ run 3 rawText 0 g\n",
    "  putStrLn \"\\nGenerated word by word: \\n\"\n",
    "  putStrLn $ unwords $ take 100 $ run 2 (words rawText) 0 g\n",
    "\n",
    "main"
   ]
  }
 ],
 "metadata": {
  "celltoolbar": "Slideshow",
  "kernelspec": {
   "display_name": "Haskell",
   "language": "haskell",
   "name": "haskell"
  },
  "language_info": {
   "codemirror_mode": "ihaskell",
   "file_extension": ".hs",
   "name": "haskell",
   "version": "7.10.3"
  }
 },
 "nbformat": 4,
 "nbformat_minor": 2
}
